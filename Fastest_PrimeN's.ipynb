{
  "nbformat": 4,
  "nbformat_minor": 0,
  "metadata": {
    "colab": {
      "name": "Untitled1.ipynb",
      "version": "0.3.2",
      "provenance": []
    },
    "kernelspec": {
      "name": "python2",
      "display_name": "Python 2"
    }
  },
  "cells": [
    {
      "metadata": {
        "id": "OfOKWHgCHzIi",
        "colab_type": "code",
        "colab": {
          "base_uri": "https://localhost:8080/",
          "height": 68
        },
        "outputId": "ad4e820a-6691-413e-d848-4a3c992af974"
      },
      "cell_type": "code",
      "source": [
        "import time\n",
        "import sys\n",
        "import math\n",
        "import timeit\n",
        "\n",
        "def isPrime(num):\n",
        "        if (num %2 == 0 ): return 0\n",
        "        if (num %3 == 0 ): return 0\n",
        "        if (num %5 == 0 ): return 0\n",
        "        for i in xrange(7,int(math.sqrt(num))+1,2):\n",
        "                if (num % i == 0): return 0\n",
        "        \n",
        "        return 1\n",
        "def answer(n):\n",
        "        LEN = 5\n",
        "        minion = \"235\";\n",
        "        i = 7;\n",
        "        nn = int(n)\n",
        "        while ( 1 ):\n",
        "                if ( isPrime(i) == 1):\n",
        "                        minion += str(i)\n",
        "                        if (len(minion)>nn+LEN):\n",
        "                                print minion\n",
        "                                return minion[nn:nn+LEN]\n",
        "                i+=1\n",
        "def main():\n",
        "        start_time = timeit.default_timer()\n",
        "        print \"minion[\"+\"100\"+\"]=\"+answer(100)\n",
        "        print(\"--- %s seconds ---\" % (timeit.default_timer() - start_time))\n",
        "        \n",
        "if __name__ == \"__main__\":\n",
        "    main()"
      ],
      "execution_count": 9,
      "outputs": [
        {
          "output_type": "stream",
          "text": [
            "2357111317192329313741434753596167717379838997101103107109113127131137139149151157163167173179181191193197\n",
            "minion[1000]=19319\n",
            "--- 0.000917196273804 seconds ---\n"
          ],
          "name": "stdout"
        }
      ]
    },
    {
      "metadata": {
        "id": "vbZ-ZxH7H9Lu",
        "colab_type": "code",
        "colab": {}
      },
      "cell_type": "code",
      "source": [
        ""
      ],
      "execution_count": 0,
      "outputs": []
    }
  ]
}
