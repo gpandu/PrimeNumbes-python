{
  "nbformat": 4,
  "nbformat_minor": 0,
  "metadata": {
    "colab": {
      "name": "Untitled1.ipynb",
      "version": "0.3.2",
      "provenance": []
    },
    "kernelspec": {
      "name": "python2",
      "display_name": "Python 2"
    }
  },
  "cells": [
    {
      "metadata": {
        "id": "OfOKWHgCHzIi",
        "colab_type": "code",
        "colab": {
          "base_uri": "https://localhost:8080/",
          "height": 68
        },
        "outputId": "b4208f0e-df33-4c2d-ffeb-b3fcd2581072"
      },
      "cell_type": "code",
      "source": [
        "import time\n",
        "import sys\n",
        "import math\n",
        "import timeit\n",
        "\n",
        "def answer(n):\n",
        "        LEN = 5\n",
        "        minion = \"235\";\n",
        "        num = 2;\n",
        "        nn = int(n)\n",
        "        dynPr = [7]\n",
        "        while ((nn+LEN)>len(minion)):\n",
        "              num+=1\n",
        "              prime = True\n",
        "              if (num %2 == 0 ): continue\n",
        "              if (num %3 == 0 ): continue\n",
        "              if (num %5 == 0 ): continue\n",
        "              limit = int(math.sqrt(num))+1\n",
        "              for i in dynPr:\n",
        "                   if (i<limit and num % i == 0): \n",
        "                            prime = False\n",
        "                            break\n",
        "              if(prime):\n",
        "                  dynPr.append(num)\n",
        "                  minion += str(num)\n",
        "                  \n",
        "        print (minion)\n",
        "        return minion[nn:nn+LEN]                    \n",
        "def main():\n",
        "        start_time = timeit.default_timer()\n",
        "        print (\"minion[\"+\"100\"+\"]=\"+ answer(100))\n",
        "        print(\"--- %s seconds ---\" % (timeit.default_timer() - start_time))\n",
        "if __name__ == \"__main__\":\n",
        "    main()\n"
      ],
      "execution_count": 0,
      "outputs": [
        {
          "output_type": "stream",
          "text": [
            "2357111317192329313741434753596167717379838997101103107109113127131137139149151157163167173179181191193197\n",
            "minion[10]=19319\n",
            "--- 0.00143480300903 seconds ---\n"
          ],
          "name": "stdout"
        }
      ]
    },
    {
      "metadata": {
        "id": "vbZ-ZxH7H9Lu",
        "colab_type": "code",
        "colab": {}
      },
      "cell_type": "code",
      "source": [
        ""
      ],
      "execution_count": 0,
      "outputs": []
    }
  ]
}